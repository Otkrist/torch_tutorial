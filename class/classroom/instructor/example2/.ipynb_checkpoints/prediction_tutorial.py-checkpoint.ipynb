{
 "cells": [
  {
   "cell_type": "code",
   "execution_count": null,
   "metadata": {},
   "outputs": [],
   "source": [
    "%matplotlib inline\n",
    "\n",
    "from PIL import Image\n",
    "from torchvision import models, transforms\n",
    "from torch.autograd import Variable\n",
    "import matplotlib.pyplot as plt\n",
    "import numpy\n",
    "\n",
    "def imshow(img):\n",
    "    npimg = numpy.asarray(img)\n",
    "    print(\"Displaying Image\")\n",
    "    plt.imshow(npimg)\n",
    "    plt.show()"
   ]
  },
  {
   "cell_type": "markdown",
   "metadata": {},
   "source": [
    "The neural network we will use in this classification tutorial is called squeezenet. Its available ready \n",
    "to download using the API given below.\n",
    "<img src=\"http://www.mdpi.com/sensors/sensors-17-01951/article_deploy/html/images/sensors-17-01951-g003.png\" />"
   ]
  },
  {
   "cell_type": "code",
   "execution_count": null,
   "metadata": {},
   "outputs": [],
   "source": [
    "# Load model\n",
    "squeeze = models.squeezenet1_1(pretrained=True)\n",
    "#squeeze = models.resnet18(pretrained=True)\n",
    "\n",
    "# Data transformations.\n",
    "normalize = transforms.Normalize(\n",
    "   mean=[0.485, 0.456, 0.406],\n",
    "   std=[0.229, 0.224, 0.225]\n",
    ")\n",
    "preprocess = transforms.Compose([\n",
    "   transforms.Resize((256,256)),\n",
    "   transforms.CenterCrop(224),\n",
    "   transforms.ToTensor(),\n",
    "   normalize\n",
    "])"
   ]
  },
  {
   "cell_type": "markdown",
   "metadata": {},
   "source": [
    "Next we load an image and display it. This is the image loaded by default in the tutorial. Class members are welcome to try other examples from web.\n",
    "\n",
    "<img src=\"input.jpg\" />"
   ]
  },
  {
   "cell_type": "code",
   "execution_count": null,
   "metadata": {},
   "outputs": [],
   "source": [
    "# Load image.\n",
    "import requests\n",
    "from io import BytesIO\n",
    "\n",
    "url = \"https://upload.wikimedia.org/wikipedia/commons/4/45/A_small_cup_of_coffee.JPG\"\n",
    "url = \"https://4.imimg.com/data4/DS/HX/MY-13827297/plastic-cup-250x250.jpg\"\n",
    "response = requests.get(url)\n",
    "\n",
    "img_pil = Image.open(open(\"input.jpg\",\"r\"))\n",
    "#img_pil = Image.open(BytesIO(response.content))\n",
    "img_tensor = preprocess(img_pil)\n",
    "img_tensor.unsqueeze_(0)\n",
    "imshow(img_pil)"
   ]
  },
  {
   "cell_type": "code",
   "execution_count": null,
   "metadata": {},
   "outputs": [],
   "source": [
    "# Send image through network.\n",
    "img_variable = Variable(img_tensor)\n",
    "fc_out = squeeze(img_variable)\n",
    "\n",
    "from labels import labels\n",
    "print(\"Predicted Image: [{}]\".format(labels[str(fc_out.data.numpy().argmax())]))\n"
   ]
  }
 ],
 "metadata": {
  "kernelspec": {
   "display_name": "Python 2",
   "language": "python",
   "name": "python2"
  },
  "language_info": {
   "codemirror_mode": {
    "name": "ipython",
    "version": 2
   },
   "file_extension": ".py",
   "mimetype": "text/x-python",
   "name": "python",
   "nbconvert_exporter": "python",
   "pygments_lexer": "ipython2",
   "version": "2.7.12"
  }
 },
 "nbformat": 4,
 "nbformat_minor": 2
}
